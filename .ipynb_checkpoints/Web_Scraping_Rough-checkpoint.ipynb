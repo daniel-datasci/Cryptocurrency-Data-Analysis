{
 "cells": [
  {
   "cell_type": "code",
   "execution_count": 1,
   "id": "2a3bf2f9",
   "metadata": {},
   "outputs": [],
   "source": [
    "# load EDA Packages\n",
    "import pandas as pd\n",
    "import numpy as np\n",
    "\n",
    "# load data vizualization packages\n",
    "import seaborn as sb\n",
    "import matplotlib.pyplot as plt\n",
    "%matplotlib inline\n",
    "\n",
    "# other libraries for visualization\n",
    "import matplotlib.dates as mdates\n",
    "import matplotlib.ticker as mtick\n",
    "import plotly.express as px\n",
    "import plotly.graph_objects as go\n",
    "from plotly.offline import iplot\n",
    "import plotly.io as pio\n",
    "\n",
    "\n",
    "# load web scrapping packages\n",
    "import requests\n",
    "from bs4 import BeautifulSoup as soup\n",
    "from urllib.request import urlopen\n",
    "import os"
   ]
  },
  {
   "cell_type": "markdown",
   "id": "135cd85d",
   "metadata": {},
   "source": [
    "# Getting the Dataset"
   ]
  },
  {
   "cell_type": "code",
   "execution_count": 2,
   "id": "dc2281df",
   "metadata": {},
   "outputs": [],
   "source": [
    "# stating the url for web scrapping\n",
    "my_url = 'https://cryptowat.ch/'"
   ]
  },
  {
   "cell_type": "code",
   "execution_count": 3,
   "id": "4092d83a",
   "metadata": {},
   "outputs": [],
   "source": [
    "# using requests method to get the content of the url\n",
    "html_data = requests.get(my_url).text"
   ]
  },
  {
   "cell_type": "code",
   "execution_count": 4,
   "id": "4f4e5d0d",
   "metadata": {},
   "outputs": [],
   "source": [
    "# passing the url content via beautiful soup parser\n",
    "soup_object = soup(html_data, 'html.parser')"
   ]
  },
  {
   "cell_type": "code",
   "execution_count": 5,
   "id": "9063488d",
   "metadata": {},
   "outputs": [
    {
     "name": "stdout",
     "output_type": "stream",
     "text": [
      "/\n",
      "/account/login\n",
      "/account/create\n",
      "/charts\n",
      "/assets\n",
      "/nft-prices\n",
      "/exchanges\n",
      "/desktop\n",
      "/mobile\n",
      "/pricing\n",
      "/markets\n",
      "/correlations\n",
      "/products/cryptocurrency-market-data-api\n",
      "/converter\n"
     ]
    }
   ],
   "source": [
    "# checking for all the links in our url\n",
    "for link in soup_object.find_all('a', href=True):       # In html anchor/link is represented by the tag <a>\n",
    "    print(link.get('href'))"
   ]
  },
  {
   "cell_type": "code",
   "execution_count": 6,
   "id": "0562c0c7",
   "metadata": {},
   "outputs": [],
   "source": [
    "# using a specfic link which is the market link\n",
    "my_url = 'https://api.cryptowat.ch/markets'"
   ]
  },
  {
   "cell_type": "code",
   "execution_count": 7,
   "id": "32eb7e34",
   "metadata": {},
   "outputs": [],
   "source": [
    "# getting the content of our url\n",
    "html_data = requests.get(my_url).text"
   ]
  },
  {
   "cell_type": "code",
   "execution_count": 8,
   "id": "86fd9fea",
   "metadata": {},
   "outputs": [],
   "source": [
    "# passing the url content via beautiful soup parser\n",
    "soup_obj = soup(html_data, 'html.parser')"
   ]
  },
  {
   "cell_type": "code",
   "execution_count": 9,
   "id": "b1ba597c",
   "metadata": {},
   "outputs": [],
   "source": [
    "# scrape the data by creating a fuction\n",
    "def get_coin_price(symbol, exchange='binance', after='2018-09-01'):\n",
    "    my_url = 'https://api.cryptowat.ch/markets/{exchange}/{symbol}usd/ohlc'.format(symbol=symbol, exchange=exchange)\n",
    "    response = requests.get(my_url, params={\n",
    "        'periods': '7200',\n",
    "        'after': str(int(pd.Timestamp(after).timestamp()))\n",
    "    })\n",
    "    \n",
    "    html_data = response.json()\n",
    "    df = pd.DataFrame(html_data['result']['7200'], columns=[\n",
    "        'CloseTime', 'OpenPrice', 'HighPrice', 'LowPrice', 'ClosePrice', 'volume', 'MarketCap'\n",
    "    ])\n",
    "    df['CloseTime'] = pd.to_datetime(df['CloseTime'], unit='s')\n",
    "    df.set_index('CloseTime', inplace=True)\n",
    "    return df"
   ]
  },
  {
   "cell_type": "code",
   "execution_count": 10,
   "id": "971dd643",
   "metadata": {},
   "outputs": [],
   "source": [
    "# pull data from crypto for btc and eth\n",
    "btc = get_coin_price('btc', 'bitstamp')\n",
    "eth = get_coin_price('eth', 'bitstamp') \n",
    "\n",
    "\n",
    "# pull others for comparison\n",
    "ada = get_coin_price('ada', 'bitstamp')\n",
    "xrp = get_coin_price('xrp', 'bitstamp')\n",
    "usdt = get_coin_price('usdt', 'bitstamp')\n",
    "matic = get_coin_price('matic', 'bitstamp')\n",
    "usdc = get_coin_price('usdc', 'bitstamp')\n",
    "shib = get_coin_price('shib', 'bitstamp')\n",
    "ftm = get_coin_price('ftm', 'bitstamp')\n",
    "uma = get_coin_price('uma', 'bitstamp')"
   ]
  },
  {
   "cell_type": "code",
   "execution_count": 11,
   "id": "7d0bf9e1",
   "metadata": {},
   "outputs": [
    {
     "data": {
      "text/html": [
       "<div>\n",
       "<style scoped>\n",
       "    .dataframe tbody tr th:only-of-type {\n",
       "        vertical-align: middle;\n",
       "    }\n",
       "\n",
       "    .dataframe tbody tr th {\n",
       "        vertical-align: top;\n",
       "    }\n",
       "\n",
       "    .dataframe thead th {\n",
       "        text-align: right;\n",
       "    }\n",
       "</style>\n",
       "<table border=\"1\" class=\"dataframe\">\n",
       "  <thead>\n",
       "    <tr style=\"text-align: right;\">\n",
       "      <th></th>\n",
       "      <th>OpenPrice</th>\n",
       "      <th>HighPrice</th>\n",
       "      <th>LowPrice</th>\n",
       "      <th>ClosePrice</th>\n",
       "      <th>volume</th>\n",
       "      <th>MarketCap</th>\n",
       "    </tr>\n",
       "    <tr>\n",
       "      <th>CloseTime</th>\n",
       "      <th></th>\n",
       "      <th></th>\n",
       "      <th></th>\n",
       "      <th></th>\n",
       "      <th></th>\n",
       "      <th></th>\n",
       "    </tr>\n",
       "  </thead>\n",
       "  <tbody>\n",
       "    <tr>\n",
       "      <th>2021-04-20 10:00:00</th>\n",
       "      <td>54461.85</td>\n",
       "      <td>55479.62</td>\n",
       "      <td>54284.33</td>\n",
       "      <td>54940.10</td>\n",
       "      <td>420.173397</td>\n",
       "      <td>2.311098e+07</td>\n",
       "    </tr>\n",
       "    <tr>\n",
       "      <th>2021-04-20 12:00:00</th>\n",
       "      <td>54940.10</td>\n",
       "      <td>56466.32</td>\n",
       "      <td>54884.22</td>\n",
       "      <td>56348.13</td>\n",
       "      <td>524.660874</td>\n",
       "      <td>2.932419e+07</td>\n",
       "    </tr>\n",
       "    <tr>\n",
       "      <th>2021-04-20 14:00:00</th>\n",
       "      <td>56356.72</td>\n",
       "      <td>56403.98</td>\n",
       "      <td>55661.65</td>\n",
       "      <td>56379.84</td>\n",
       "      <td>408.564245</td>\n",
       "      <td>2.290104e+07</td>\n",
       "    </tr>\n",
       "    <tr>\n",
       "      <th>2021-04-20 16:00:00</th>\n",
       "      <td>56406.02</td>\n",
       "      <td>56542.92</td>\n",
       "      <td>54700.00</td>\n",
       "      <td>55355.58</td>\n",
       "      <td>646.185067</td>\n",
       "      <td>3.587516e+07</td>\n",
       "    </tr>\n",
       "    <tr>\n",
       "      <th>2021-04-20 18:00:00</th>\n",
       "      <td>55384.65</td>\n",
       "      <td>56010.61</td>\n",
       "      <td>55155.76</td>\n",
       "      <td>55942.70</td>\n",
       "      <td>386.479547</td>\n",
       "      <td>2.148352e+07</td>\n",
       "    </tr>\n",
       "    <tr>\n",
       "      <th>...</th>\n",
       "      <td>...</td>\n",
       "      <td>...</td>\n",
       "      <td>...</td>\n",
       "      <td>...</td>\n",
       "      <td>...</td>\n",
       "      <td>...</td>\n",
       "    </tr>\n",
       "    <tr>\n",
       "      <th>2022-09-02 00:00:00</th>\n",
       "      <td>20095.00</td>\n",
       "      <td>20174.00</td>\n",
       "      <td>20061.00</td>\n",
       "      <td>20128.00</td>\n",
       "      <td>81.950392</td>\n",
       "      <td>1.647610e+06</td>\n",
       "    </tr>\n",
       "    <tr>\n",
       "      <th>2022-09-02 02:00:00</th>\n",
       "      <td>20133.00</td>\n",
       "      <td>20133.00</td>\n",
       "      <td>20016.00</td>\n",
       "      <td>20048.00</td>\n",
       "      <td>112.853307</td>\n",
       "      <td>2.264364e+06</td>\n",
       "    </tr>\n",
       "    <tr>\n",
       "      <th>2022-09-02 04:00:00</th>\n",
       "      <td>20048.00</td>\n",
       "      <td>20235.00</td>\n",
       "      <td>19957.00</td>\n",
       "      <td>20161.00</td>\n",
       "      <td>82.271167</td>\n",
       "      <td>1.653513e+06</td>\n",
       "    </tr>\n",
       "    <tr>\n",
       "      <th>2022-09-02 06:00:00</th>\n",
       "      <td>20158.00</td>\n",
       "      <td>20295.00</td>\n",
       "      <td>20075.00</td>\n",
       "      <td>20125.00</td>\n",
       "      <td>121.282143</td>\n",
       "      <td>2.449675e+06</td>\n",
       "    </tr>\n",
       "    <tr>\n",
       "      <th>2022-09-02 08:00:00</th>\n",
       "      <td>20121.00</td>\n",
       "      <td>20132.00</td>\n",
       "      <td>20039.00</td>\n",
       "      <td>20122.00</td>\n",
       "      <td>79.069175</td>\n",
       "      <td>1.587175e+06</td>\n",
       "    </tr>\n",
       "  </tbody>\n",
       "</table>\n",
       "<p>6000 rows × 6 columns</p>\n",
       "</div>"
      ],
      "text/plain": [
       "                     OpenPrice  HighPrice  LowPrice  ClosePrice      volume  \\\n",
       "CloseTime                                                                     \n",
       "2021-04-20 10:00:00   54461.85   55479.62  54284.33    54940.10  420.173397   \n",
       "2021-04-20 12:00:00   54940.10   56466.32  54884.22    56348.13  524.660874   \n",
       "2021-04-20 14:00:00   56356.72   56403.98  55661.65    56379.84  408.564245   \n",
       "2021-04-20 16:00:00   56406.02   56542.92  54700.00    55355.58  646.185067   \n",
       "2021-04-20 18:00:00   55384.65   56010.61  55155.76    55942.70  386.479547   \n",
       "...                        ...        ...       ...         ...         ...   \n",
       "2022-09-02 00:00:00   20095.00   20174.00  20061.00    20128.00   81.950392   \n",
       "2022-09-02 02:00:00   20133.00   20133.00  20016.00    20048.00  112.853307   \n",
       "2022-09-02 04:00:00   20048.00   20235.00  19957.00    20161.00   82.271167   \n",
       "2022-09-02 06:00:00   20158.00   20295.00  20075.00    20125.00  121.282143   \n",
       "2022-09-02 08:00:00   20121.00   20132.00  20039.00    20122.00   79.069175   \n",
       "\n",
       "                        MarketCap  \n",
       "CloseTime                          \n",
       "2021-04-20 10:00:00  2.311098e+07  \n",
       "2021-04-20 12:00:00  2.932419e+07  \n",
       "2021-04-20 14:00:00  2.290104e+07  \n",
       "2021-04-20 16:00:00  3.587516e+07  \n",
       "2021-04-20 18:00:00  2.148352e+07  \n",
       "...                           ...  \n",
       "2022-09-02 00:00:00  1.647610e+06  \n",
       "2022-09-02 02:00:00  2.264364e+06  \n",
       "2022-09-02 04:00:00  1.653513e+06  \n",
       "2022-09-02 06:00:00  2.449675e+06  \n",
       "2022-09-02 08:00:00  1.587175e+06  \n",
       "\n",
       "[6000 rows x 6 columns]"
      ]
     },
     "execution_count": 11,
     "metadata": {},
     "output_type": "execute_result"
    }
   ],
   "source": [
    "# loading the btc data into a padas dataframe\n",
    "btc"
   ]
  },
  {
   "cell_type": "code",
   "execution_count": 12,
   "id": "14dc8470",
   "metadata": {},
   "outputs": [],
   "source": [
    "# export to csv to make the index a column\n",
    "btc.to_csv('btc.csv', index = True)\n",
    "eth.to_csv('eth.csv', index = True)\n",
    "ada.to_csv('ada.csv', index = True)\n",
    "xrp.to_csv('xrp.csv', index = True)\n",
    "usdt.to_csv('usdt.csv', index = True)\n",
    "matic.to_csv('matic.csv', index = True)\n",
    "usdc.to_csv('usdc.csv', index = True)\n",
    "shib.to_csv('shib.csv', index = True)\n",
    "ftm.to_csv('ftm.csv', index = True)\n",
    "uma.to_csv('uma.csv', index = True)"
   ]
  },
  {
   "cell_type": "markdown",
   "id": "5d51aa96",
   "metadata": {},
   "source": [
    "I stopped here and continued with the Data Wrangling and Exploratory Data Analysis in the Part_2 file. This is so I don't keep running the above codes which will lead to continous scrapping of the website."
   ]
  },
  {
   "cell_type": "code",
   "execution_count": null,
   "id": "45ea7811",
   "metadata": {},
   "outputs": [],
   "source": []
  },
  {
   "cell_type": "code",
   "execution_count": null,
   "id": "e043a4ab",
   "metadata": {},
   "outputs": [],
   "source": []
  },
  {
   "cell_type": "code",
   "execution_count": null,
   "id": "019c61c9",
   "metadata": {},
   "outputs": [],
   "source": []
  }
 ],
 "metadata": {
  "kernelspec": {
   "display_name": "Python [conda env:StarNPMS] *",
   "language": "python",
   "name": "conda-env-StarNPMS-py"
  },
  "language_info": {
   "codemirror_mode": {
    "name": "ipython",
    "version": 3
   },
   "file_extension": ".py",
   "mimetype": "text/x-python",
   "name": "python",
   "nbconvert_exporter": "python",
   "pygments_lexer": "ipython3",
   "version": "3.9.12"
  },
  "toc": {
   "base_numbering": 1,
   "nav_menu": {},
   "number_sections": true,
   "sideBar": true,
   "skip_h1_title": false,
   "title_cell": "Table of Contents",
   "title_sidebar": "Contents",
   "toc_cell": false,
   "toc_position": {},
   "toc_section_display": true,
   "toc_window_display": false
  },
  "varInspector": {
   "cols": {
    "lenName": 16,
    "lenType": 16,
    "lenVar": 40
   },
   "kernels_config": {
    "python": {
     "delete_cmd_postfix": "",
     "delete_cmd_prefix": "del ",
     "library": "var_list.py",
     "varRefreshCmd": "print(var_dic_list())"
    },
    "r": {
     "delete_cmd_postfix": ") ",
     "delete_cmd_prefix": "rm(",
     "library": "var_list.r",
     "varRefreshCmd": "cat(var_dic_list()) "
    }
   },
   "types_to_exclude": [
    "module",
    "function",
    "builtin_function_or_method",
    "instance",
    "_Feature"
   ],
   "window_display": false
  }
 },
 "nbformat": 4,
 "nbformat_minor": 5
}
