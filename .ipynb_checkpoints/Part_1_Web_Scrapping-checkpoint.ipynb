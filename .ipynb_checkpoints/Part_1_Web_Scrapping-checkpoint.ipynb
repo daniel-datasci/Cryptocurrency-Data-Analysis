{
 "cells": [
  {
   "cell_type": "markdown",
   "id": "8865229c",
   "metadata": {},
   "source": [
    "# CRYPTOCURRENCY DATA ANALYSIS\n",
    "\n",
    "# Introduction\n",
    "\n",
    "Cryptocurrency market is well known for its unpredictability and volatile nature, because the trends keeeps changing every minute of the day. Due to this fact, It is strongly advised to learn how to analyze cryptocurrency trends before trading because doing so can help investors avoid making costly mistakes and guide them in the proper way when it comes to making financial decisions.\n",
    "\n",
    "In this end to end project, I web scrapped and analyzed live cryptocurrency data from from [Cryptowatch](https://cryptowat.ch/), a popular charting & trading terminal for cryptocurrency markets.\n",
    "\n",
    "# Aim of the Project\n",
    "\n",
    "Crypto research and analysis can assist investors in avoiding bear markets and identifying when an asset is going to turn bullish once more. Additionally, it can be used to anticipate significant changes in the market.\n",
    "\n",
    "The goal of this project is to analyze the market trends and movements of the **top 10 crytocurrencies for the past four years**, starting from 1st September, 2018 (2018-09-01) to 5th September, 2022 (2022-09-05) and to generate insights and trends through visualizations.\n",
    "\n",
    "The insights gained from this project can be able to assist a cryptocurrency investor at this point in time, in avoiding bear markets and identifying when is the best time to trade a coin."
   ]
  },
  {
   "cell_type": "markdown",
   "id": "10265d45",
   "metadata": {},
   "source": [
    "# Importation of Libraries"
   ]
  },
  {
   "cell_type": "code",
   "execution_count": 1,
   "id": "8c1afa22",
   "metadata": {},
   "outputs": [],
   "source": [
    "# load EDA Packages\n",
    "import pandas as pd\n",
    "import numpy as np\n",
    "\n",
    "# load data vizualization packages\n",
    "import seaborn as sb\n",
    "import matplotlib.pyplot as plt\n",
    "%matplotlib inline\n",
    "\n",
    "# other libraries for visualization\n",
    "import matplotlib.dates as mdates\n",
    "import matplotlib.ticker as mtick\n",
    "import plotly.express as px\n",
    "import plotly.graph_objects as go\n",
    "from plotly.offline import iplot\n",
    "import plotly.io as pio\n",
    "\n",
    "\n",
    "# load web scrapping packages\n",
    "import requests\n",
    "from bs4 import BeautifulSoup as soup\n",
    "from urllib.request import urlopen\n",
    "import os"
   ]
  },
  {
   "cell_type": "markdown",
   "id": "1aa33610",
   "metadata": {},
   "source": [
    "# Getting the Dataset"
   ]
  },
  {
   "cell_type": "code",
   "execution_count": 2,
   "id": "cc3e72ab",
   "metadata": {},
   "outputs": [],
   "source": [
    "# stating the url for web scrapping\n",
    "my_url = 'https://cryptowat.ch/'"
   ]
  },
  {
   "cell_type": "code",
   "execution_count": 3,
   "id": "47f84d91",
   "metadata": {},
   "outputs": [],
   "source": [
    "# using requests method to get the content of the url\n",
    "html_data = requests.get(my_url).text"
   ]
  },
  {
   "cell_type": "code",
   "execution_count": 4,
   "id": "e10b9f20",
   "metadata": {},
   "outputs": [],
   "source": [
    "# passing the url content via beautiful soup parser\n",
    "soup_object = soup(html_data, 'html.parser')"
   ]
  },
  {
   "cell_type": "code",
   "execution_count": 5,
   "id": "10c72d35",
   "metadata": {},
   "outputs": [
    {
     "name": "stdout",
     "output_type": "stream",
     "text": [
      "/\n",
      "/account/login\n",
      "/account/create\n",
      "/charts\n",
      "/assets\n",
      "/nft-prices\n",
      "/exchanges\n",
      "/desktop\n",
      "/mobile\n",
      "/pricing\n",
      "/markets\n",
      "/correlations\n",
      "/products/cryptocurrency-market-data-api\n",
      "/converter\n"
     ]
    }
   ],
   "source": [
    "# checking for all the links in our url\n",
    "for link in soup_object.find_all('a', href=True):       # In html anchor/link is represented by the tag <a>\n",
    "    print(link.get('href'))"
   ]
  },
  {
   "cell_type": "code",
   "execution_count": 6,
   "id": "cdcfb289",
   "metadata": {},
   "outputs": [],
   "source": [
    "# using a specfic link which is the market link\n",
    "my_url = 'https://api.cryptowat.ch/markets'"
   ]
  },
  {
   "cell_type": "code",
   "execution_count": 7,
   "id": "b3c9ad77",
   "metadata": {},
   "outputs": [],
   "source": [
    "# getting the content of our url\n",
    "html_data = requests.get(my_url).text"
   ]
  },
  {
   "cell_type": "code",
   "execution_count": 8,
   "id": "6cf49239",
   "metadata": {},
   "outputs": [],
   "source": [
    "# passing the url content via beautiful soup\n",
    "soup_obj = soup(html_data, 'html.parser')"
   ]
  },
  {
   "cell_type": "code",
   "execution_count": 9,
   "id": "ae63a36e",
   "metadata": {},
   "outputs": [],
   "source": [
    "# scrape the data by creating a fuction\n",
    "def get_coin_data(symbol, exchange='binance', after='2018-09-01'):\n",
    "    my_url = 'https://api.cryptowat.ch/markets/{exchange}/{symbol}usd/ohlc'.format(symbol=symbol, exchange=exchange)\n",
    "    response = requests.get(my_url, params={\n",
    "        'periods': '21600',\n",
    "        'after': str(int(pd.Timestamp(after).timestamp()))\n",
    "    })\n",
    "    \n",
    "    html_data = response.json()\n",
    "    df = pd.DataFrame(html_data['result']['21600'], columns=[\n",
    "        'CloseTime', 'OpenPrice', 'HighPrice', 'LowPrice', 'ClosePrice', 'volume', 'MarketCap'\n",
    "    ])\n",
    "    df['CloseTime'] = pd.to_datetime(df['CloseTime'], unit='s')\n",
    "    df.set_index('CloseTime', inplace=True)\n",
    "    return df"
   ]
  },
  {
   "cell_type": "code",
   "execution_count": 10,
   "id": "45aa8042",
   "metadata": {},
   "outputs": [],
   "source": [
    "# pull data from crypto for btc and eth\n",
    "btc = get_coin_data('btc', 'bitstamp')\n",
    "eth = get_coin_data('eth', 'bitstamp') \n",
    "\n",
    "\n",
    "# pull others for comparison\n",
    "ada = get_coin_data('ada', 'bitstamp')\n",
    "xrp = get_coin_data('xrp', 'bitstamp')\n",
    "usdt = get_coin_data('usdt', 'bitstamp')\n",
    "matic = get_coin_data('matic', 'bitstamp')\n",
    "usdc = get_coin_data('usdc', 'bitstamp')\n",
    "shib = get_coin_data('shib', 'bitstamp')\n",
    "ftm = get_coin_data('ftm', 'bitstamp')\n",
    "uma = get_coin_data('uma', 'bitstamp')"
   ]
  },
  {
   "cell_type": "code",
   "execution_count": 11,
   "id": "10476d29",
   "metadata": {},
   "outputs": [
    {
     "data": {
      "text/html": [
       "<div>\n",
       "<style scoped>\n",
       "    .dataframe tbody tr th:only-of-type {\n",
       "        vertical-align: middle;\n",
       "    }\n",
       "\n",
       "    .dataframe tbody tr th {\n",
       "        vertical-align: top;\n",
       "    }\n",
       "\n",
       "    .dataframe thead th {\n",
       "        text-align: right;\n",
       "    }\n",
       "</style>\n",
       "<table border=\"1\" class=\"dataframe\">\n",
       "  <thead>\n",
       "    <tr style=\"text-align: right;\">\n",
       "      <th></th>\n",
       "      <th>OpenPrice</th>\n",
       "      <th>HighPrice</th>\n",
       "      <th>LowPrice</th>\n",
       "      <th>ClosePrice</th>\n",
       "      <th>volume</th>\n",
       "      <th>MarketCap</th>\n",
       "    </tr>\n",
       "    <tr>\n",
       "      <th>CloseTime</th>\n",
       "      <th></th>\n",
       "      <th></th>\n",
       "      <th></th>\n",
       "      <th></th>\n",
       "      <th></th>\n",
       "      <th></th>\n",
       "    </tr>\n",
       "  </thead>\n",
       "  <tbody>\n",
       "    <tr>\n",
       "      <th>2018-09-01 00:00:00</th>\n",
       "      <td>7042.95</td>\n",
       "      <td>7101.03</td>\n",
       "      <td>6998.87</td>\n",
       "      <td>7017.35</td>\n",
       "      <td>1353.671600</td>\n",
       "      <td>9.549478e+06</td>\n",
       "    </tr>\n",
       "    <tr>\n",
       "      <th>2018-09-01 06:00:00</th>\n",
       "      <td>7015.78</td>\n",
       "      <td>7070.00</td>\n",
       "      <td>7015.22</td>\n",
       "      <td>7042.34</td>\n",
       "      <td>338.595700</td>\n",
       "      <td>2.384278e+06</td>\n",
       "    </tr>\n",
       "    <tr>\n",
       "      <th>2018-09-01 12:00:00</th>\n",
       "      <td>7035.04</td>\n",
       "      <td>7131.85</td>\n",
       "      <td>7024.51</td>\n",
       "      <td>7058.97</td>\n",
       "      <td>874.048000</td>\n",
       "      <td>6.180810e+06</td>\n",
       "    </tr>\n",
       "    <tr>\n",
       "      <th>2018-09-01 18:00:00</th>\n",
       "      <td>7058.97</td>\n",
       "      <td>7230.00</td>\n",
       "      <td>7021.29</td>\n",
       "      <td>7196.27</td>\n",
       "      <td>1570.716700</td>\n",
       "      <td>1.124772e+07</td>\n",
       "    </tr>\n",
       "    <tr>\n",
       "      <th>2018-09-02 00:00:00</th>\n",
       "      <td>7193.30</td>\n",
       "      <td>7300.18</td>\n",
       "      <td>7169.99</td>\n",
       "      <td>7185.01</td>\n",
       "      <td>1807.095200</td>\n",
       "      <td>1.305408e+07</td>\n",
       "    </tr>\n",
       "    <tr>\n",
       "      <th>...</th>\n",
       "      <td>...</td>\n",
       "      <td>...</td>\n",
       "      <td>...</td>\n",
       "      <td>...</td>\n",
       "      <td>...</td>\n",
       "      <td>...</td>\n",
       "    </tr>\n",
       "    <tr>\n",
       "      <th>2022-09-04 12:00:00</th>\n",
       "      <td>19771.00</td>\n",
       "      <td>19848.00</td>\n",
       "      <td>19586.00</td>\n",
       "      <td>19848.00</td>\n",
       "      <td>147.677626</td>\n",
       "      <td>2.910609e+06</td>\n",
       "    </tr>\n",
       "    <tr>\n",
       "      <th>2022-09-04 18:00:00</th>\n",
       "      <td>19850.00</td>\n",
       "      <td>19950.00</td>\n",
       "      <td>19660.00</td>\n",
       "      <td>19843.00</td>\n",
       "      <td>157.141203</td>\n",
       "      <td>3.114347e+06</td>\n",
       "    </tr>\n",
       "    <tr>\n",
       "      <th>2022-09-05 00:00:00</th>\n",
       "      <td>19834.00</td>\n",
       "      <td>20025.00</td>\n",
       "      <td>19809.00</td>\n",
       "      <td>20007.00</td>\n",
       "      <td>111.779251</td>\n",
       "      <td>2.225859e+06</td>\n",
       "    </tr>\n",
       "    <tr>\n",
       "      <th>2022-09-05 06:00:00</th>\n",
       "      <td>20014.00</td>\n",
       "      <td>20051.00</td>\n",
       "      <td>19678.00</td>\n",
       "      <td>19722.00</td>\n",
       "      <td>166.173350</td>\n",
       "      <td>3.295136e+06</td>\n",
       "    </tr>\n",
       "    <tr>\n",
       "      <th>2022-09-05 12:00:00</th>\n",
       "      <td>19710.00</td>\n",
       "      <td>19814.00</td>\n",
       "      <td>19704.00</td>\n",
       "      <td>19741.00</td>\n",
       "      <td>197.306536</td>\n",
       "      <td>3.903218e+06</td>\n",
       "    </tr>\n",
       "  </tbody>\n",
       "</table>\n",
       "<p>5863 rows × 6 columns</p>\n",
       "</div>"
      ],
      "text/plain": [
       "                     OpenPrice  HighPrice  LowPrice  ClosePrice       volume  \\\n",
       "CloseTime                                                                      \n",
       "2018-09-01 00:00:00    7042.95    7101.03   6998.87     7017.35  1353.671600   \n",
       "2018-09-01 06:00:00    7015.78    7070.00   7015.22     7042.34   338.595700   \n",
       "2018-09-01 12:00:00    7035.04    7131.85   7024.51     7058.97   874.048000   \n",
       "2018-09-01 18:00:00    7058.97    7230.00   7021.29     7196.27  1570.716700   \n",
       "2018-09-02 00:00:00    7193.30    7300.18   7169.99     7185.01  1807.095200   \n",
       "...                        ...        ...       ...         ...          ...   \n",
       "2022-09-04 12:00:00   19771.00   19848.00  19586.00    19848.00   147.677626   \n",
       "2022-09-04 18:00:00   19850.00   19950.00  19660.00    19843.00   157.141203   \n",
       "2022-09-05 00:00:00   19834.00   20025.00  19809.00    20007.00   111.779251   \n",
       "2022-09-05 06:00:00   20014.00   20051.00  19678.00    19722.00   166.173350   \n",
       "2022-09-05 12:00:00   19710.00   19814.00  19704.00    19741.00   197.306536   \n",
       "\n",
       "                        MarketCap  \n",
       "CloseTime                          \n",
       "2018-09-01 00:00:00  9.549478e+06  \n",
       "2018-09-01 06:00:00  2.384278e+06  \n",
       "2018-09-01 12:00:00  6.180810e+06  \n",
       "2018-09-01 18:00:00  1.124772e+07  \n",
       "2018-09-02 00:00:00  1.305408e+07  \n",
       "...                           ...  \n",
       "2022-09-04 12:00:00  2.910609e+06  \n",
       "2022-09-04 18:00:00  3.114347e+06  \n",
       "2022-09-05 00:00:00  2.225859e+06  \n",
       "2022-09-05 06:00:00  3.295136e+06  \n",
       "2022-09-05 12:00:00  3.903218e+06  \n",
       "\n",
       "[5863 rows x 6 columns]"
      ]
     },
     "execution_count": 11,
     "metadata": {},
     "output_type": "execute_result"
    }
   ],
   "source": [
    "# loading the btc data into a padas dataframe\n",
    "btc"
   ]
  },
  {
   "cell_type": "code",
   "execution_count": 12,
   "id": "45e2735e",
   "metadata": {},
   "outputs": [],
   "source": [
    "# export to csv to make the index a column\n",
    "btc.to_csv('btc.csv', index = True)\n",
    "eth.to_csv('eth.csv', index = True)\n",
    "ada.to_csv('ada.csv', index = True)\n",
    "xrp.to_csv('xrp.csv', index = True)\n",
    "usdt.to_csv('usdt.csv', index = True)\n",
    "matic.to_csv('matic.csv', index = True)\n",
    "usdc.to_csv('usdc.csv', index = True)\n",
    "shib.to_csv('shib.csv', index = True)\n",
    "ftm.to_csv('ftm.csv', index = True)\n",
    "uma.to_csv('uma.csv', index = True)"
   ]
  },
  {
   "cell_type": "markdown",
   "id": "11c839c4",
   "metadata": {},
   "source": [
    "I stopped here and continued with the Data Wrangling and Exploratory Data Analysis in the Part_2 ipynb file. This is so I don't keep running the above codes whenever I want to rerun the whole body of codes for uniformity and which will lead to continous scrapping of the website."
   ]
  },
  {
   "cell_type": "code",
   "execution_count": null,
   "id": "b28ccb45",
   "metadata": {},
   "outputs": [],
   "source": []
  },
  {
   "cell_type": "code",
   "execution_count": null,
   "id": "f6df6ae7",
   "metadata": {},
   "outputs": [],
   "source": []
  },
  {
   "cell_type": "code",
   "execution_count": null,
   "id": "872239ce",
   "metadata": {},
   "outputs": [],
   "source": []
  }
 ],
 "metadata": {
  "kernelspec": {
   "display_name": "Python [conda env:StarNPMS] *",
   "language": "python",
   "name": "conda-env-StarNPMS-py"
  },
  "language_info": {
   "codemirror_mode": {
    "name": "ipython",
    "version": 3
   },
   "file_extension": ".py",
   "mimetype": "text/x-python",
   "name": "python",
   "nbconvert_exporter": "python",
   "pygments_lexer": "ipython3",
   "version": "3.9.12"
  },
  "toc": {
   "base_numbering": 1,
   "nav_menu": {},
   "number_sections": true,
   "sideBar": true,
   "skip_h1_title": false,
   "title_cell": "Table of Contents",
   "title_sidebar": "Contents",
   "toc_cell": false,
   "toc_position": {},
   "toc_section_display": true,
   "toc_window_display": false
  },
  "varInspector": {
   "cols": {
    "lenName": 16,
    "lenType": 16,
    "lenVar": 40
   },
   "kernels_config": {
    "python": {
     "delete_cmd_postfix": "",
     "delete_cmd_prefix": "del ",
     "library": "var_list.py",
     "varRefreshCmd": "print(var_dic_list())"
    },
    "r": {
     "delete_cmd_postfix": ") ",
     "delete_cmd_prefix": "rm(",
     "library": "var_list.r",
     "varRefreshCmd": "cat(var_dic_list()) "
    }
   },
   "types_to_exclude": [
    "module",
    "function",
    "builtin_function_or_method",
    "instance",
    "_Feature"
   ],
   "window_display": false
  }
 },
 "nbformat": 4,
 "nbformat_minor": 5
}
